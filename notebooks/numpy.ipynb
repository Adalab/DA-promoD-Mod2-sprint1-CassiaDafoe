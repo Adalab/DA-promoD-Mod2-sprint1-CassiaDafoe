{
 "cells": [
  {
   "cell_type": "code",
   "execution_count": 1,
   "metadata": {},
   "outputs": [],
   "source": [
    "import numpy as np"
   ]
  },
  {
   "attachments": {},
   "cell_type": "markdown",
   "metadata": {},
   "source": [
    "# Evaluacion 3: Cassia Dafoe\n",
    "\n",
    "## NumPy\n",
    "\n",
    "1. Importa la librería de NumPy.\n",
    "2. Crea un array de 1 dimension y 10 elementos.\n"
   ]
  },
  {
   "cell_type": "code",
   "execution_count": 9,
   "metadata": {},
   "outputs": [
    {
     "data": {
      "text/plain": [
       "array([86, 73, 74, 97, 99, 11,  6, 48,  5,  4])"
      ]
     },
     "execution_count": 9,
     "metadata": {},
     "output_type": "execute_result"
    }
   ],
   "source": [
    "array1 = np.random.randint(0,100,(10))\n",
    "array1"
   ]
  },
  {
   "attachments": {},
   "cell_type": "markdown",
   "metadata": {},
   "source": [
    "3. Reemplaza todos los números impares por el valor \"par\" y los pares por \"par\". Para hacer esto os tendréis que crear un array nuevo donde vayáis añadiendo los valores nuevos."
   ]
  },
  {
   "cell_type": "code",
   "execution_count": 20,
   "metadata": {},
   "outputs": [
    {
     "data": {
      "text/plain": [
       "array([None, None, None, None, None, None, None, None, None, None],\n",
       "      dtype=object)"
      ]
     },
     "execution_count": 20,
     "metadata": {},
     "output_type": "execute_result"
    }
   ],
   "source": [
    "# para crear un array con valores de tipo strings, creo un array \"vacio\" de tipo \"list\" \n",
    "# de tipo \"string\" solo me cogia la primera letra de las palabras par o impar\n",
    "array2 = np.empty((10), dtype = list)\n",
    "array2"
   ]
  },
  {
   "cell_type": "code",
   "execution_count": 23,
   "metadata": {},
   "outputs": [],
   "source": [
    "# con un for loop podemos iterar por el array original y reemplazar los valores segun si se\n",
    "# pueden dividir por 2 sin resto o no (si son par o no); y segun el resultados reemplazamos\n",
    "# el valor en la misma posicion del array1 por la palabra apropriada\n",
    "for i, valor in enumerate(array1):\n",
    "    if valor % 2 ==0:\n",
    "        array2[i] = \"par\"\n",
    "    else:\n",
    "        array2[i] = \"impar\""
   ]
  },
  {
   "cell_type": "code",
   "execution_count": 24,
   "metadata": {},
   "outputs": [
    {
     "data": {
      "text/plain": [
       "array(['par', 'impar', 'par', 'impar', 'impar', 'impar', 'par', 'par',\n",
       "       'impar', 'par'], dtype=object)"
      ]
     },
     "execution_count": 24,
     "metadata": {},
     "output_type": "execute_result"
    }
   ],
   "source": [
    "array2"
   ]
  },
  {
   "attachments": {},
   "cell_type": "markdown",
   "metadata": {},
   "source": [
    "4. Cambiad la forma del array del ejercicio 3 a un array de 2 filas y 5 columnas."
   ]
  },
  {
   "cell_type": "code",
   "execution_count": 25,
   "metadata": {},
   "outputs": [
    {
     "data": {
      "text/plain": [
       "array([['par', 'impar', 'par', 'impar', 'impar'],\n",
       "       ['impar', 'par', 'par', 'impar', 'par']], dtype=object)"
      ]
     },
     "execution_count": 25,
     "metadata": {},
     "output_type": "execute_result"
    }
   ],
   "source": [
    "array2 = np.reshape(array2,(2,5))\n",
    "array2"
   ]
  },
  {
   "attachments": {},
   "cell_type": "markdown",
   "metadata": {},
   "source": [
    "5. Extrae los elementos comunes de los siguientes arrays"
   ]
  },
  {
   "cell_type": "code",
   "execution_count": 27,
   "metadata": {},
   "outputs": [],
   "source": [
    "array1a = np.array([1,2,3,2,3,4,3,4,5,6])\n",
    "array2a = np.array([7,2,10,2,7,4,9,4,9,8])"
   ]
  },
  {
   "cell_type": "code",
   "execution_count": 29,
   "metadata": {},
   "outputs": [
    {
     "data": {
      "text/plain": [
       "array([2, 4])"
      ]
     },
     "execution_count": 29,
     "metadata": {},
     "output_type": "execute_result"
    }
   ],
   "source": [
    "np.intersect1d(array1a, array2a)"
   ]
  },
  {
   "attachments": {},
   "cell_type": "markdown",
   "metadata": {},
   "source": [
    "6. Extraed los elementos que están en el array1 pero no en el array2."
   ]
  },
  {
   "cell_type": "code",
   "execution_count": 30,
   "metadata": {},
   "outputs": [
    {
     "data": {
      "text/plain": [
       "array([1, 3, 5, 6])"
      ]
     },
     "execution_count": 30,
     "metadata": {},
     "output_type": "execute_result"
    }
   ],
   "source": [
    "np.setdiff1d(array1a, array2a)"
   ]
  },
  {
   "attachments": {},
   "cell_type": "markdown",
   "metadata": {},
   "source": [
    "7. Extraed las posiciones donde tengamos elementos que sean iguales."
   ]
  },
  {
   "cell_type": "code",
   "execution_count": 42,
   "metadata": {},
   "outputs": [
    {
     "name": "stdout",
     "output_type": "stream",
     "text": [
      "Los indices del elemento igual 2 son (array([1, 3]),)\n",
      "Los indices del elemento igual 4 son (array([5, 7]),)\n",
      "Los indices del elemento igual 2 son (array([1, 3]),)\n",
      "Los indices del elemento igual 4 son (array([5, 7]),)\n"
     ]
    }
   ],
   "source": [
    "# iteramos por los arrays y los valores que tienen iguales para sacar los indices con np.where\n",
    "for array in [array1a, array2a]:\n",
    "    for i in np.intersect1d(array1a, array2a):\n",
    "        print(f\"Los indices del elemento igual {i} son {np.where(array == i)}\")"
   ]
  },
  {
   "attachments": {},
   "cell_type": "markdown",
   "metadata": {},
   "source": [
    "8. Cread un array de 3 filas y 5 columnas, con números enteros del 0 al 50. Una vez creado, extrae los valores que sean menores que 10 y mayores que 40."
   ]
  },
  {
   "cell_type": "code",
   "execution_count": 44,
   "metadata": {},
   "outputs": [
    {
     "data": {
      "text/plain": [
       "array([[44, 12, 38, 12, 43],\n",
       "       [36,  7, 37, 35,  1],\n",
       "       [22,  3, 16, 36, 43]])"
      ]
     },
     "execution_count": 44,
     "metadata": {},
     "output_type": "execute_result"
    }
   ],
   "source": [
    "array4 = np.random.randint(0, 50, (3,5))\n",
    "array4"
   ]
  },
  {
   "cell_type": "code",
   "execution_count": 46,
   "metadata": {},
   "outputs": [
    {
     "data": {
      "text/plain": [
       "array([7, 2, 2, 7, 4, 9, 4, 9, 8])"
      ]
     },
     "execution_count": 46,
     "metadata": {},
     "output_type": "execute_result"
    }
   ],
   "source": [
    "array[(array < 10) | (array > 40)]"
   ]
  },
  {
   "attachments": {},
   "cell_type": "markdown",
   "metadata": {},
   "source": [
    "9. Cread un array de 5x3 con números decimales aleatorios entre el 5 y el 10."
   ]
  },
  {
   "cell_type": "code",
   "execution_count": 52,
   "metadata": {},
   "outputs": [
    {
     "data": {
      "text/plain": [
       "array([[8.8256391 , 5.21111635, 5.01804408],\n",
       "       [5.62701912, 7.68657166, 5.39647265],\n",
       "       [6.37017841, 5.45100899, 6.57119966],\n",
       "       [5.97504026, 7.168294  , 7.85560909],\n",
       "       [8.57253324, 8.14938292, 8.92681966]])"
      ]
     },
     "execution_count": 52,
     "metadata": {},
     "output_type": "execute_result"
    }
   ],
   "source": [
    "array5 = np.random.randint(5, 9, (5,3)) + np.random.random_sample((5,3))\n",
    "\n",
    "array5"
   ]
  },
  {
   "attachments": {},
   "cell_type": "markdown",
   "metadata": {},
   "source": [
    "10. Crea un array de tres dimensiones de 2x4x7 con números entre el 1 y el 20\n",
    "- Transponed el array para que tenga 4 matrices, 7 filas y 2 columnas"
   ]
  },
  {
   "cell_type": "code",
   "execution_count": 53,
   "metadata": {},
   "outputs": [
    {
     "data": {
      "text/plain": [
       "array([[[ 9,  8, 19,  9,  9,  7,  6],\n",
       "        [ 5,  1,  1,  2,  6, 12,  3],\n",
       "        [16, 13,  5,  7,  1,  2, 17],\n",
       "        [ 9,  1,  7,  3, 17,  2, 19]],\n",
       "\n",
       "       [[18,  8, 11,  3, 10, 12,  3],\n",
       "        [ 5, 16, 14,  9, 11, 15,  2],\n",
       "        [19,  6, 16,  5, 11,  9, 19],\n",
       "        [12, 13,  8,  5,  3, 14,  5]]])"
      ]
     },
     "execution_count": 53,
     "metadata": {},
     "output_type": "execute_result"
    }
   ],
   "source": [
    "array6 = np.random.randint(1, 20, (2,4,7))\n",
    "array6"
   ]
  },
  {
   "cell_type": "code",
   "execution_count": 54,
   "metadata": {},
   "outputs": [
    {
     "data": {
      "text/plain": [
       "array([[[ 9,  8],\n",
       "        [19,  9],\n",
       "        [ 9,  7],\n",
       "        [ 6,  5],\n",
       "        [ 1,  1],\n",
       "        [ 2,  6],\n",
       "        [12,  3]],\n",
       "\n",
       "       [[16, 13],\n",
       "        [ 5,  7],\n",
       "        [ 1,  2],\n",
       "        [17,  9],\n",
       "        [ 1,  7],\n",
       "        [ 3, 17],\n",
       "        [ 2, 19]],\n",
       "\n",
       "       [[18,  8],\n",
       "        [11,  3],\n",
       "        [10, 12],\n",
       "        [ 3,  5],\n",
       "        [16, 14],\n",
       "        [ 9, 11],\n",
       "        [15,  2]],\n",
       "\n",
       "       [[19,  6],\n",
       "        [16,  5],\n",
       "        [11,  9],\n",
       "        [19, 12],\n",
       "        [13,  8],\n",
       "        [ 5,  3],\n",
       "        [14,  5]]])"
      ]
     },
     "execution_count": 54,
     "metadata": {},
     "output_type": "execute_result"
    }
   ],
   "source": [
    "array6 = np.reshape(array6, (4,7,2))\n",
    "array6"
   ]
  }
 ],
 "metadata": {
  "kernelspec": {
   "display_name": "base",
   "language": "python",
   "name": "python3"
  },
  "language_info": {
   "codemirror_mode": {
    "name": "ipython",
    "version": 3
   },
   "file_extension": ".py",
   "mimetype": "text/x-python",
   "name": "python",
   "nbconvert_exporter": "python",
   "pygments_lexer": "ipython3",
   "version": "3.9.7"
  },
  "orig_nbformat": 4
 },
 "nbformat": 4,
 "nbformat_minor": 2
}
